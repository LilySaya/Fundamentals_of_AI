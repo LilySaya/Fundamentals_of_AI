{
  "nbformat": 4,
  "nbformat_minor": 0,
  "metadata": {
    "colab": {
      "provenance": [],
      "authorship_tag": "ABX9TyPae/FXt2eCeu9kfjZQyZjI",
      "include_colab_link": true
    },
    "kernelspec": {
      "name": "python3",
      "display_name": "Python 3"
    },
    "language_info": {
      "name": "python"
    }
  },
  "cells": [
    {
      "cell_type": "markdown",
      "metadata": {
        "id": "view-in-github",
        "colab_type": "text"
      },
      "source": [
        "<a href=\"https://colab.research.google.com/github/LilySaya/Fundamentals_of_AI/blob/main/LinearRegression_Pytorch.ipynb\" target=\"_parent\"><img src=\"https://colab.research.google.com/assets/colab-badge.svg\" alt=\"Open In Colab\"/></a>"
      ]
    },
    {
      "cell_type": "code",
      "execution_count": null,
      "metadata": {
        "id": "1A5plnIeJ1QS"
      },
      "outputs": [],
      "source": [
        "import torch\n",
        "import torch.nn as nn\n",
        "import numpy as np\n",
        "from sklearn import datasets\n",
        "import matplotlib.pyplot as plt\n",
        "import statistics as st"
      ]
    },
    {
      "cell_type": "code",
      "source": [
        "#X_numpy, y_numpy = datasets.make_regression(n_samples = 100, n_features = 1,noise = 20, random_state = 10)\n",
        "X_numpy  = np.array([3.5, 2.4, 3.8, 2.9, 2.2])\n",
        "y_numpy  = np.array([4.0, 3.6, 5.1, 4.1, 2.2])\n",
        "\n",
        "#change from numpy to tensor\n",
        "X = torch.from_numpy(X_numpy.astype(np.float32))\n",
        "y = torch.from_numpy(y_numpy.astype(np.float32))\n",
        "X_test = torch.tensor([2.8], dtype = torch.float32)\n",
        "\n",
        "#change tensor size\n",
        "X = X.view(-1,1)\n",
        "y = y.view(-1,1)\n",
        "\n",
        "#define size\n",
        "n_samples, n_features = X.shape\n",
        "input_size = n_features\n",
        "output_size = n_features\n",
        "\n",
        "#model\n",
        "model = nn.Linear(input_size, output_size)\n",
        "\n",
        "#loss function\n",
        "criterion = nn.MSELoss()\n",
        "\n",
        "#optimizer\n",
        "learning_rate = 0.01\n",
        "optimizer = torch.optim.SGD(model.parameters(), lr = learning_rate)\n",
        "\n",
        "#train data\n",
        "n_epochs = 100\n",
        "for epoch in range(n_epochs):\n",
        "  #forward\n",
        "  y_pred = model(X)\n",
        "\n",
        "  #loss\n",
        "  loss = criterion(y, y_pred)\n",
        "\n",
        "  #backward\n",
        "  loss.backward()\n",
        "\n",
        "  #update parameters\n",
        "  optimizer.step()\n",
        "\n",
        "  #clear gradient\n",
        "  optimizer.zero_grad()\n",
        "\n",
        "  if ((epoch+1)%10 == 0):\n",
        "    [w,b] = model.parameters()\n",
        "    #print(f'epoch {epoch+1}: loss {loss.item()}, weights {w[0][0].item()}')\n",
        "\n",
        "#plot\n",
        "fig, ax = plt.subplots()\n",
        "y_predicted = model(X).detach().numpy()\n",
        "ax.plot(X_numpy, y_numpy, 'ro')\n",
        "ax.plot(X, y_predicted, 'b')\n",
        "\n",
        "#set labels\n",
        "ax.set_xlabel(\"GPA\", fontsize=16)\n",
        "ax.set_ylabel(\"GPT\", fontsize=16)\n",
        "\n",
        "\n",
        "print(f'GPT of X who has GPA of 2.8 is {model(X_test).detach().numpy().item()}')"
      ],
      "metadata": {
        "colab": {
          "base_uri": "https://localhost:8080/",
          "height": 302
        },
        "id": "qAxBlKufRoU0",
        "outputId": "413f3210-df7d-481a-bf43-cea801d82ed5"
      },
      "execution_count": null,
      "outputs": [
        {
          "output_type": "stream",
          "name": "stdout",
          "text": [
            "GPT of X who has GPA of 2.8 is 3.707650661468506\n"
          ]
        },
        {
          "output_type": "display_data",
          "data": {
            "text/plain": [
              "<Figure size 432x288 with 1 Axes>"
            ],
            "image/png": "[encoded data removed]"
          },
          "metadata": {
            "needs_background": "light"
          }
        }
      ]
    },
    {
      "cell_type": "code",
      "source": [
        "X = np.array([3.5, 2.4, 3.8, 2.9, 2.2])\n",
        "y  = np.array([4.0, 3.6, 5.1, 4.1, 2.2])\n",
        "X_test = 2.8\n",
        "#Find weight manually\n",
        "w1 = (st.mean(X*y)- (st.mean(X)*st.mean(y))) / (st.mean(X*X)- (st.mean(X)*st.mean(X)))\n",
        "w0 = st.mean(y) - w1*st.mean(X)\n",
        "\n",
        "#plot\n",
        "fig, ax = plt.subplots()\n",
        "#ax.scatter(X, y, c = \"r\")\n",
        "ax.plot(X, w0 + w1*X, 'b')\n",
        "print(X)\n",
        "print(w0 + w1*X)\n",
        "#Set labels\n",
        "ax.set_xlabel(\"GPA\", fontsize=16)\n",
        "ax.set_ylabel(\"GPT\", fontsize=16)\n",
        "\n",
        "\n",
        "print(f'GPT of X who has GPA of 2.8 is {w0+w1*X_test}')\n",
        "print(w0, w1)"
      ],
      "metadata": {
        "colab": {
          "base_uri": "https://localhost:8080/",
          "height": 355
        },
        "id": "h2X-6TkKEk2r",
        "outputId": "1299ecc1-1c26-4e56-ca4d-d345dfc52cd5"
      },
      "execution_count": null,
      "outputs": [
        {
          "output_type": "stream",
          "name": "stdout",
          "text": [
            "[3.5 2.4 3.8 2.9 2.2]\n",
            "[4.51638478 3.05708245 4.91437632 3.72040169 2.79175476]\n",
            "GPT of X who has GPA of 2.8 is 3.587737843551797\n",
            "-0.12684989429175042 1.326638477801267\n"
          ]
        },
        {
          "output_type": "display_data",
          "data": {
            "text/plain": [
              "<Figure size 432x288 with 1 Axes>"
            ],
            "image/png": "[encoded data removed]"
          },
          "metadata": {
            "needs_background": "light"
          }
        }
      ]
    },
    {
      "cell_type": "code",
      "source": [
        "X  = np.array([3.5, 2.4, 3.8, 2.9, 2.2])\n",
        "y  = np.array([4.0, 3.6, 5.1, 4.1, 2.2])\n",
        "X_test = 2.8\n",
        "one = np.ones((5,1))\n",
        "Q = np.array([[X.T@X, (X.T@one).item()],[(one.T@X).item(), (one.T@one).item()]])\n",
        "p = np.array([[-y.T@X],[(-y.T@one).item()]])\n",
        "w = -np.linalg.inv(Q)@p\n",
        "\n",
        "#plot\n",
        "fig, ax = plt.subplots()\n",
        "ax.scatter(X, y, c = \"r\")\n",
        "ax.plot(X, w[1] + w[0]*X, 'b')\n",
        "\n",
        "#Set labels\n",
        "ax.set_xlabel(\"GPA\", fontsize=16)\n",
        "ax.set_ylabel(\"GPT\", fontsize=16)\n",
        "\n",
        "\n",
        "print(f'GPT of X who has GPA of 2.8 is {(w[1]+w[0]*X_test).item()}')"
      ],
      "metadata": {
        "id": "GxugeqzrFqUe",
        "colab": {
          "base_uri": "https://localhost:8080/",
          "height": 301
        },
        "outputId": "5e91db7c-9e8e-4105-acc2-29d799404862"
      },
      "execution_count": null,
      "outputs": [
        {
          "output_type": "stream",
          "name": "stdout",
          "text": [
            "GPT of X who has GPA of 2.8 is 3.5877378435518095\n"
          ]
        },
        {
          "output_type": "display_data",
          "data": {
            "text/plain": [
              "<Figure size 432x288 with 1 Axes>"
            ],
            "image/png": "[encoded data removed]"
          },
          "metadata": {
            "needs_background": "light"
          }
        }
      ]
    },
    {
      "cell_type": "code",
      "source": [
        "#Matlab\n"
      ],
      "metadata": {
        "id": "wS86cSf3NY8a"
      },
      "execution_count": null,
      "outputs": []
    }
  ]
}